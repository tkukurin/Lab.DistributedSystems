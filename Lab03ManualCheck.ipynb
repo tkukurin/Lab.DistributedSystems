{
 "cells": [
  {
   "cell_type": "code",
   "execution_count": 22,
   "metadata": {},
   "outputs": [],
   "source": [
    "a = 0.2\n",
    "b = 0.3\n",
    "c = 0.5\n",
    "d = 0.3\n",
    "e = 0.7\n",
    "f = 0.6\n",
    "g = 0.2\n",
    "h = 0.3"
   ]
  },
  {
   "cell_type": "code",
   "execution_count": 23,
   "metadata": {},
   "outputs": [],
   "source": [
    "df = 1.0 / (1.0 - d * f)\n",
    "vs = [\n",
    "  1.0,\n",
    "  df,\n",
    "  df * (a + h * b) / (1.0 - g * h),\n",
    "  df * (b + g * a) / (1.0 - g * h),\n",
    "  df * c,\n",
    "  df * d,\n",
    "  df * e,\n",
    "]\n",
    "\n",
    "Ss = [0.003, 0.001, 0.010, 0.040, 0.100, 0.130, 0.150]\n",
    "rhos = [v*s for v, s in zip(vs, Ss)]"
   ]
  },
  {
   "cell_type": "code",
   "execution_count": 28,
   "metadata": {},
   "outputs": [
    {
     "data": {
      "text/plain": [
       "[0.003,\n",
       " 0.0012195121951219512,\n",
       " 0.0037623248572911266,\n",
       " 0.017644006227296317,\n",
       " 0.06097560975609756,\n",
       " 0.0475609756097561,\n",
       " 0.12804878048780488]"
      ]
     },
     "execution_count": 28,
     "metadata": {},
     "output_type": "execute_result"
    }
   ],
   "source": [
    "rhos"
   ]
  },
  {
   "cell_type": "code",
   "execution_count": 25,
   "metadata": {},
   "outputs": [
    {
     "data": {
      "text/plain": [
       "[0.0030090270812437314,\n",
       " 0.001221001221001221,\n",
       " 0.0037765334027868216,\n",
       " 0.017960908610670893,\n",
       " 0.06493506493506494,\n",
       " 0.049935979513444306,\n",
       " 0.14685314685314685]"
      ]
     },
     "execution_count": 25,
     "metadata": {},
     "output_type": "execute_result"
    }
   ],
   "source": [
    "l = 1.0\n",
    "[r / (1 - r * l) for r in rhos]"
   ]
  }
 ],
 "metadata": {
  "kernelspec": {
   "display_name": "Python 3",
   "language": "python",
   "name": "python3"
  },
  "language_info": {
   "codemirror_mode": {
    "name": "ipython",
    "version": 3
   },
   "file_extension": ".py",
   "mimetype": "text/x-python",
   "name": "python",
   "nbconvert_exporter": "python",
   "pygments_lexer": "ipython3",
   "version": "3.7.2"
  }
 },
 "nbformat": 4,
 "nbformat_minor": 2
}
